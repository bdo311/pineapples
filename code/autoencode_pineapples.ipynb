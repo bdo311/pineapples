{
 "cells": [
  {
   "cell_type": "markdown",
   "metadata": {},
   "source": [
    "Need to run \n",
    "\n",
    "`source code/tensorflow/bin/activate`"
   ]
  },
  {
   "cell_type": "code",
   "execution_count": 214,
   "metadata": {
    "collapsed": false
   },
   "outputs": [],
   "source": [
    "import numpy as np\n",
    "from sklearn import metrics\n",
    "import tensorflow as tf\n",
    "import glob\n",
    "from scipy import ndimage\n",
    "import matplotlib.pyplot as plt\n",
    "import seaborn as sns\n",
    "from PIL import Image \n",
    "import cPickle as pickle\n",
    "from copy import deepcopy\n",
    "import math\n",
    "\n",
    "%matplotlib inline"
   ]
  },
  {
   "cell_type": "code",
   "execution_count": 12,
   "metadata": {
    "collapsed": false
   },
   "outputs": [
    {
     "name": "stdout",
     "output_type": "stream",
     "text": [
      "Extracting MNIST_data/train-images-idx3-ubyte.gz\n",
      "Extracting MNIST_data/train-labels-idx1-ubyte.gz\n",
      "Extracting MNIST_data/t10k-images-idx3-ubyte.gz\n",
      "Extracting MNIST_data/t10k-labels-idx1-ubyte.gz\n"
     ]
    },
    {
     "data": {
      "text/plain": [
       "(55000, 784)"
      ]
     },
     "execution_count": 12,
     "metadata": {},
     "output_type": "execute_result"
    }
   ],
   "source": [
    "from tensorflow.examples.tutorials.mnist import input_data\n",
    "mnist = input_data.read_data_sets(\"MNIST_data\", one_hot=True)\n",
    "mnist.train.images.shape"
   ]
  },
  {
   "cell_type": "markdown",
   "metadata": {},
   "source": [
    "## Preprocessing images"
   ]
  },
  {
   "cell_type": "code",
   "execution_count": 147,
   "metadata": {
    "collapsed": false
   },
   "outputs": [
    {
     "data": {
      "text/plain": [
       "1004"
      ]
     },
     "execution_count": 147,
     "metadata": {},
     "output_type": "execute_result"
    }
   ],
   "source": [
    "image_files = glob.glob(\"../data/pineapples/*\")\n",
    "len(image_files)"
   ]
  },
  {
   "cell_type": "code",
   "execution_count": 170,
   "metadata": {
    "collapsed": false
   },
   "outputs": [
    {
     "name": "stdout",
     "output_type": "stream",
     "text": [
      "0\n",
      "100\n",
      "200\n",
      "300\n",
      "400\n",
      "500\n",
      "600\n",
      "700\n",
      "800\n",
      "900\n",
      "1000\n"
     ]
    }
   ],
   "source": [
    "maxsize = (64,64)\n",
    "arr = np.zeros((len(image_files), maxsize[0], maxsize[1]))\n",
    "for num in range(len(image_files)):\n",
    "    if num % 100 == 0: print num\n",
    "    im = Image.open(image_files[num])\n",
    "    data = np.array(im)\n",
    "\n",
    "    # convert to one-hot\n",
    "    data[data < 100] = 1\n",
    "    data[data > 100] = 0\n",
    "    data = data[:,:,1]\n",
    "\n",
    "    # get bounding box\n",
    "    new_im = Image.fromarray(data)\n",
    "    lx, ly, rx, ry = new_im.getbbox()\n",
    "    data_bbox = data[ly:ry, lx:rx]\n",
    "    h, w = data_bbox.shape\n",
    "\n",
    "    # add padding\n",
    "    if w > h:\n",
    "        pad = (w - h)/2 + 25\n",
    "        if h + pad != w: data_pad = np.pad(data_bbox, ((pad,pad+1),(25,25)), mode='constant', constant_values=0)\n",
    "        else: data_pad = np.pad(data_bbox, ((pad,pad),(25,25)), mode='constant', constant_values=0)\n",
    "    else:\n",
    "        pad = (h - w)/2 + 25\n",
    "        if w + pad != h: data_pad = np.pad(data_bbox, ((25,25),(pad,pad+1)), mode='constant', constant_values=0)\n",
    "        data_pad = np.pad(data_bbox, ((25,25),(pad,pad)), mode='constant', constant_values=0)\n",
    "\n",
    "    # thumbnail\n",
    "    small_im = Image.fromarray(data_pad)\n",
    "    small_im.thumbnail(maxsize, Image.ANTIALIAS)\n",
    "    assert(np.array(small_im).shape == maxsize)\n",
    "    \n",
    "    # save to array\n",
    "    data_small = np.array(small_im)\n",
    "    data_small[data_small < 0.5] = 0\n",
    "    data_small[data_small > 0.5] = 1\n",
    "    arr[num] = np.array(data_small)"
   ]
  },
  {
   "cell_type": "code",
   "execution_count": 174,
   "metadata": {
    "collapsed": false
   },
   "outputs": [
    {
     "data": {
      "text/plain": [
       "(1004, 64, 64)"
      ]
     },
     "execution_count": 174,
     "metadata": {},
     "output_type": "execute_result"
    }
   ],
   "source": [
    "arr.shape"
   ]
  },
  {
   "cell_type": "code",
   "execution_count": 173,
   "metadata": {
    "collapsed": false
   },
   "outputs": [],
   "source": [
    "pickle.dump(arr, open(\"../data/pineapple_array.pkl\", 'w'))"
   ]
  },
  {
   "cell_type": "code",
   "execution_count": null,
   "metadata": {
    "collapsed": false
   },
   "outputs": [],
   "source": [
    "#plt.imshow(data_small*255)"
   ]
  },
  {
   "cell_type": "markdown",
   "metadata": {},
   "source": [
    "## TensorFlow"
   ]
  },
  {
   "cell_type": "code",
   "execution_count": 175,
   "metadata": {
    "collapsed": false
   },
   "outputs": [],
   "source": [
    "data = pickle.load(open(\"../data/pineapple_array.pkl\", 'r'))"
   ]
  },
  {
   "cell_type": "code",
   "execution_count": 192,
   "metadata": {
    "collapsed": false
   },
   "outputs": [
    {
     "data": {
      "text/plain": [
       "<matplotlib.image.AxesImage at 0x125820e10>"
      ]
     },
     "execution_count": 192,
     "metadata": {},
     "output_type": "execute_result"
    },
    {
     "data": {
      "image/png": "[encoded data removed]",
      "text/plain": [
       "<matplotlib.figure.Figure at 0x154b9a950>"
      ]
     },
     "metadata": {},
     "output_type": "display_data"
    }
   ],
   "source": [
    "plt.imshow(data[1].flatten().reshape((64,64)))"
   ]
  },
  {
   "cell_type": "code",
   "execution_count": 273,
   "metadata": {
    "collapsed": true
   },
   "outputs": [],
   "source": [
    "# From https://github.com/pkmital/tensorflow_tutorials/blob/master/python/09_convolutional_autoencoder.py\n",
    "\n",
    "def lrelu(x, leak=0.2, name=\"lrelu\"):\n",
    "    \"\"\"Leaky rectifier.\n",
    "    Parameters\n",
    "    ----------\n",
    "    x : Tensor\n",
    "        The tensor to apply the nonlinearity to.\n",
    "    leak : float, optional\n",
    "        Leakage parameter.\n",
    "    name : str, optional\n",
    "        Variable scope to use.\n",
    "    Returns\n",
    "    -------\n",
    "    x : Tensor\n",
    "        Output of the nonlinearity.\n",
    "    \"\"\"\n",
    "    with tf.variable_scope(name):\n",
    "        f1 = 0.5 * (1 + leak)\n",
    "        f2 = 0.5 * (1 - leak)\n",
    "        return f1 * x + f2 * abs(x)\n",
    "    \n",
    "    \n",
    "def autoencoder(input_shape=[None, 64*64],\n",
    "                n_filters=[1, 10, 10, 4],\n",
    "                filter_sizes=[3, 3, 3, 3],\n",
    "                corruption=False):\n",
    "    \"\"\"Build a deep denoising autoencoder w/ tied weights.\n",
    "    Parameters\n",
    "    ----------\n",
    "    input_shape : list, optional\n",
    "        Description\n",
    "    n_filters : list, optional\n",
    "        Description\n",
    "    filter_sizes : list, optional\n",
    "        Description\n",
    "    Returns\n",
    "    -------\n",
    "    x : Tensor\n",
    "        Input placeholder to the network\n",
    "    z : Tensor\n",
    "        Inner-most latent representation\n",
    "    y : Tensor\n",
    "        Output reconstruction of the input\n",
    "    cost : Tensor\n",
    "        Overall cost to use for training\n",
    "    Raises\n",
    "    ------\n",
    "    ValueError\n",
    "        Description\n",
    "    \"\"\"\n",
    "    # %%\n",
    "    # input to the network\n",
    "    x = tf.placeholder(\n",
    "        tf.float32, input_shape, name='x')\n",
    "\n",
    "    # %%\n",
    "    # ensure 2-d is converted to square tensor.\n",
    "    if len(x.get_shape()) == 2:\n",
    "        x_dim = np.sqrt(x.get_shape().as_list()[1])\n",
    "        if x_dim != int(x_dim):\n",
    "            raise ValueError('Unsupported input dimensions')\n",
    "        x_dim = int(x_dim)\n",
    "        x_tensor = tf.reshape(\n",
    "            x, [-1, x_dim, x_dim, n_filters[0]])\n",
    "    elif len(x.get_shape()) == 4:\n",
    "        x_tensor = x\n",
    "    else:\n",
    "        raise ValueError('Unsupported input dimensions')\n",
    "    current_input = x_tensor\n",
    "\n",
    "    # %%\n",
    "    # Build the encoder\n",
    "    encoder = []\n",
    "    shapes = []\n",
    "    for layer_i, n_output in enumerate(n_filters[1:]):\n",
    "        n_input = current_input.get_shape().as_list()[3]\n",
    "        shapes.append(current_input.get_shape().as_list())\n",
    "        W = tf.Variable(\n",
    "            tf.random_uniform([\n",
    "                filter_sizes[layer_i],\n",
    "                filter_sizes[layer_i],\n",
    "                n_input, n_output],\n",
    "                -1.0 / math.sqrt(n_input),\n",
    "                1.0 / math.sqrt(n_input)))\n",
    "        b = tf.Variable(tf.zeros([n_output]))\n",
    "        encoder.append(W)\n",
    "        output = lrelu(\n",
    "            tf.add(tf.nn.conv2d(\n",
    "                current_input, W, strides=[1, 2, 2, 1], padding='SAME'), b))\n",
    "        current_input = output\n",
    "\n",
    "    # %%\n",
    "    # store the latent representation\n",
    "    z = current_input\n",
    "    encoder.reverse()\n",
    "    shapes.reverse()\n",
    "\n",
    "    # %%\n",
    "    # Build the decoder using the same weights\n",
    "    for layer_i, shape in enumerate(shapes):\n",
    "        W = encoder[layer_i]\n",
    "        b = tf.Variable(tf.zeros([W.get_shape().as_list()[2]]))\n",
    "        output = lrelu(tf.add(\n",
    "            tf.nn.conv2d_transpose(\n",
    "                current_input, W,\n",
    "                tf.stack([tf.shape(x)[0], shape[1], shape[2], shape[3]]),\n",
    "                strides=[1, 2, 2, 1], padding='SAME'), b))\n",
    "        current_input = output\n",
    "\n",
    "    # %%\n",
    "    # now have the reconstruction through the network\n",
    "    y = current_input\n",
    "    # cost function measures pixel-wise difference\n",
    "    cost = tf.reduce_sum(tf.square(y - x_tensor))\n",
    "\n",
    "    # %%\n",
    "    return {'x': x, 'z': z, 'y': y, 'cost': cost}"
   ]
  },
  {
   "cell_type": "code",
   "execution_count": 235,
   "metadata": {
    "collapsed": false
   },
   "outputs": [
    {
     "data": {
      "text/plain": [
       "(10, 64, 64)"
      ]
     },
     "execution_count": 235,
     "metadata": {},
     "output_type": "execute_result"
    }
   ],
   "source": [
    "data_test[0:10,:].shape"
   ]
  },
  {
   "cell_type": "code",
   "execution_count": 278,
   "metadata": {
    "collapsed": false
   },
   "outputs": [
    {
     "name": "stdout",
     "output_type": "stream",
     "text": [
      "(0, 16107.614)\n",
      "(5, 14030.627)\n",
      "(10, 12764.324)\n",
      "(15, 13172.619)\n",
      "(20, 12870.599)\n",
      "(25, 13183.515)\n",
      "(30, 13043.389)\n",
      "(35, 11599.047)\n",
      "(40, 12461.705)\n",
      "(45, 12364.742)\n",
      "(50, 12085.157)\n",
      "(55, 12723.719)\n",
      "(60, 12769.252)\n",
      "(65, 11388.377)\n",
      "(70, 11754.289)\n",
      "(75, 11416.232)\n",
      "(80, 11830.537)\n",
      "(85, 11531.748)\n",
      "(90, 11767.758)\n",
      "(95, 12100.361)\n"
     ]
    }
   ],
   "source": [
    "layers = tf.contrib.layers\n",
    "learn = tf.contrib.learn\n",
    "\n",
    "# load data\n",
    "data_flat = np.reshape(data, (1004,4096))\n",
    "mean_img = np.mean(data_flat, axis=0)\n",
    "\n",
    "data_train = data_flat[1:800,:]\n",
    "data_test = data_flat[800:,:]\n",
    "\n",
    "ae = autoencoder()\n",
    "\n",
    "# %%\n",
    "learning_rate = 2e-3\n",
    "optimizer = tf.train.AdamOptimizer(learning_rate).minimize(ae['cost'])\n",
    "\n",
    "# %%\n",
    "# We create a session to use the graph\n",
    "sess = tf.Session()\n",
    "sess.run(tf.global_variables_initializer())\n",
    "\n",
    "# %%\n",
    "# Fit all training data\n",
    "batch_size = 50\n",
    "n_epochs = 100\n",
    "learning_rate = 8e-4\n",
    "\n",
    "# n_filters = [1,10,10,10]\n",
    "# filter_sizes = [3,3,3,3]\n",
    "# learning_rate = 2e-3\n",
    "\n",
    "for epoch_i in range(n_epochs):\n",
    "    data_rand = deepcopy(data_flat)\n",
    "    np.random.shuffle(data_rand)\n",
    "    if n_epochs == 50: \n",
    "        learning_rate = learning_rate/10\n",
    "        optimizer = tf.train.AdamOptimizer(learning_rate).minimize(ae['cost'])\n",
    "    for batch_i in range(data_rand.shape[0] // batch_size):\n",
    "        start = batch_i*batch_size\n",
    "        end = start + batch_size\n",
    "        batch_xs = data_rand[start:end,:]\n",
    "        train = batch_xs - mean_img\n",
    "        sess.run(optimizer, feed_dict={ae['x']: train})\n",
    "    if epoch_i % 5 == 0:\n",
    "        print(epoch_i, sess.run(ae['cost'], feed_dict={ae['x']: train}))"
   ]
  },
  {
   "cell_type": "code",
   "execution_count": 277,
   "metadata": {
    "collapsed": false
   },
   "outputs": [
    {
     "name": "stdout",
     "output_type": "stream",
     "text": [
      "(10, 64, 64, 1)\n"
     ]
    },
    {
     "data": {
      "image/png": "[encoded data removed]",
      "text/plain": [
       "<matplotlib.figure.Figure at 0x1490b25d0>"
      ]
     },
     "metadata": {},
     "output_type": "display_data"
    }
   ],
   "source": [
    "# %%\n",
    "# Plot example reconstructions\n",
    "n_examples = 10\n",
    "indices = np.arange(data_test.shape[0])\n",
    "np.random.shuffle(indices)\n",
    "test_xs = data_test[indices[:n_examples],:]\n",
    "test_xs_norm = test_xs - mean_img\n",
    "recon = sess.run(ae['y'], feed_dict={ae['x']: test_xs_norm})\n",
    "print(recon.shape)\n",
    "fig, axs = plt.subplots(2, n_examples, figsize=(10, 2))\n",
    "for example_i in range(n_examples):\n",
    "    axs[0][example_i].imshow(\n",
    "        np.reshape(test_xs[example_i, :], (64, 64)))\n",
    "    axs[1][example_i].imshow(\n",
    "        np.reshape(\n",
    "            np.reshape(recon[example_i, ...], (4096,)) + mean_img,\n",
    "            (64, 64)))\n",
    "fig.show()\n",
    "plt.draw()"
   ]
  },
  {
   "cell_type": "code",
   "execution_count": 272,
   "metadata": {
    "collapsed": false
   },
   "outputs": [
    {
     "name": "stdout",
     "output_type": "stream",
     "text": [
      "(10, 8, 8, 4)\n"
     ]
    }
   ],
   "source": [
    "recon = sess.run(ae['z'], feed_dict={ae['x']: test_xs_norm})\n",
    "print(recon.shape)"
   ]
  }
 ],
 "metadata": {
  "anaconda-cloud": {},
  "kernelspec": {
   "display_name": "Python 2",
   "language": "python",
   "name": "python2"
  },
  "language_info": {
   "codemirror_mode": {
    "name": "ipython",
    "version": 2
   },
   "file_extension": ".py",
   "mimetype": "text/x-python",
   "name": "python",
   "nbconvert_exporter": "python",
   "pygments_lexer": "ipython2",
   "version": "2.7.11"
  }
 },
 "nbformat": 4,
 "nbformat_minor": 2
}
